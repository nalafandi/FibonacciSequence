{
  "nbformat": 4,
  "nbformat_minor": 0,
  "metadata": {
    "colab": {
      "provenance": [],
      "mount_file_id": "1YZuoH7PkJcda99bnTrlT7huoAd98JRKd",
      "authorship_tag": "ABX9TyOv4boe0YbD31DTN4+p3Cvz",
      "include_colab_link": true
    },
    "kernelspec": {
      "name": "python3",
      "display_name": "Python 3"
    },
    "language_info": {
      "name": "python"
    }
  },
  "cells": [
    {
      "cell_type": "markdown",
      "metadata": {
        "id": "view-in-github",
        "colab_type": "text"
      },
      "source": [
        "<a href=\"https://colab.research.google.com/github/nalafandi/FibonacciSequence/blob/master/pdfTextExtraction.ipynb\" target=\"_parent\"><img src=\"https://colab.research.google.com/assets/colab-badge.svg\" alt=\"Open In Colab\"/></a>"
      ]
    },
    {
      "cell_type": "code",
      "source": [
        "!pip install pymupdf pandas\n",
        "import fitz"
      ],
      "metadata": {
        "id": "QAUA8N1UlIR3",
        "outputId": "43779917-244b-4faf-dcf3-998e321ef362",
        "colab": {
          "base_uri": "https://localhost:8080/"
        },
        "collapsed": true
      },
      "execution_count": null,
      "outputs": [
        {
          "output_type": "stream",
          "name": "stdout",
          "text": [
            "Collecting pymupdf\n",
            "  Downloading pymupdf-1.25.5-cp39-abi3-manylinux2014_x86_64.manylinux_2_17_x86_64.whl.metadata (3.4 kB)\n",
            "Requirement already satisfied: pandas in /usr/local/lib/python3.11/dist-packages (2.2.2)\n",
            "Requirement already satisfied: numpy>=1.23.2 in /usr/local/lib/python3.11/dist-packages (from pandas) (2.0.2)\n",
            "Requirement already satisfied: python-dateutil>=2.8.2 in /usr/local/lib/python3.11/dist-packages (from pandas) (2.8.2)\n",
            "Requirement already satisfied: pytz>=2020.1 in /usr/local/lib/python3.11/dist-packages (from pandas) (2025.2)\n",
            "Requirement already satisfied: tzdata>=2022.7 in /usr/local/lib/python3.11/dist-packages (from pandas) (2025.2)\n",
            "Requirement already satisfied: six>=1.5 in /usr/local/lib/python3.11/dist-packages (from python-dateutil>=2.8.2->pandas) (1.17.0)\n",
            "Downloading pymupdf-1.25.5-cp39-abi3-manylinux2014_x86_64.manylinux_2_17_x86_64.whl (20.0 MB)\n",
            "\u001b[2K   \u001b[90m━━━━━━━━━━━━━━━━━━━━━━━━━━━━━━━━━━━━━━━━\u001b[0m \u001b[32m20.0/20.0 MB\u001b[0m \u001b[31m79.9 MB/s\u001b[0m eta \u001b[36m0:00:00\u001b[0m\n",
            "\u001b[?25hInstalling collected packages: pymupdf\n",
            "Successfully installed pymupdf-1.25.5\n"
          ]
        }
      ]
    },
    {
      "cell_type": "code",
      "source": [
        "pdf_document = fitz.open(\"/wsh.pdf\")\n",
        "\n",
        "\n",
        "page1 = pdf_document[0]\n",
        "page2 = pdf_document[1]\n",
        "page3 = pdf_document[2]\n",
        "page4 = pdf_document[3]\n",
        "page5 = pdf_document[4]\n",
        "page6 = pdf_document[5]\n",
        "page7 = pdf_document[6]\n",
        "page8 = pdf_document[7]\n",
        "page9 = pdf_document[8]\n",
        "page10 = pdf_document[9]\n",
        "# page11 = pdf_document[10]\n",
        "# page12 = pdf_document[11]\n",
        "\n",
        "text1 = page1.get_text(\"words\", sort=True)\n",
        "text2 = page2.get_text(\"words\", sort=True)\n",
        "text3 = page3.get_text(\"words\", sort=True)\n",
        "text4 = page4.get_text(\"words\", sort=True)\n",
        "text5 = page5.get_text(\"words\", sort=True)\n",
        "text6 = page6.get_text(\"words\", sort=True)\n",
        "text7 = page7.get_text(\"words\", sort=True)\n",
        "text8 = page8.get_text(\"words\", sort=True)\n",
        "text9 = page9.get_text(\"words\", sort=True)\n",
        "text10 = page10.get_text(\"words\", sort=True)\n",
        "# text11 = page11.get_text(\"words\", sort=True)\n",
        "# text12 = page12.get_text(\"words\", sort=True)\n",
        "\n",
        "\n",
        "\n",
        "text = text1 + text2 + text3 + text4 + text5 + text6 + text7 + text8 + text9 + text10# + text11 + text12\n",
        "\n",
        "\n",
        "for i, word in enumerate(text):\n",
        "\n",
        "  txt = word[4]\n",
        "  if txt == \"Number:\":\n",
        "      contract = text[i+1][4]\n",
        "  if txt == \"CHK\":\n",
        "      total = text[i+1][4]\n",
        "      print(contract + \" \" + total)\n",
        "\n",
        "\n",
        "\n",
        "pdf_document.close()"
      ],
      "metadata": {
        "id": "02-v5HFWmypi"
      },
      "execution_count": null,
      "outputs": []
    },
    {
      "cell_type": "markdown",
      "source": [],
      "metadata": {
        "id": "AyxykRfMnPv8"
      }
    },
    {
      "cell_type": "code",
      "source": [],
      "metadata": {
        "id": "9IDpRUnR7eCn"
      },
      "execution_count": null,
      "outputs": []
    },
    {
      "cell_type": "markdown",
      "source": [],
      "metadata": {
        "id": "Tv3iPJ_EmNUL"
      }
    }
  ]
}