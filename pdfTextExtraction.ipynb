{
  "nbformat": 4,
  "nbformat_minor": 0,
  "metadata": {
    "colab": {
      "provenance": [],
      "mount_file_id": "1YZuoH7PkJcda99bnTrlT7huoAd98JRKd",
      "authorship_tag": "ABX9TyOv4boe0YbD31DTN4+p3Cvz"
    },
    "kernelspec": {
      "name": "python3",
      "display_name": "Python 3"
    },
    "language_info": {
      "name": "python"
    }
  },
  "cells": [
    {
      "cell_type": "code",
      "source": [
        "!pip install pymupdf pandas\n",
        "import fitz"
      ],
      "metadata": {
        "id": "QAUA8N1UlIR3",
        "outputId": "43779917-244b-4faf-dcf3-998e321ef362",
        "colab": {
          "base_uri": "https://localhost:8080/"
        },
        "collapsed": true
      },
      "execution_count": null,
      "outputs": [
        {
          "output_type": "stream",
          "name": "stdout",
          "text": [
            "Collecting pymupdf\n",
            "  Downloading pymupdf-1.25.5-cp39-abi3-manylinux2014_x86_64.manylinux_2_17_x86_64.whl.metadata (3.4 kB)\n",
            "Requirement already satisfied: pandas in /usr/local/lib/python3.11/dist-packages (2.2.2)\n",
            "Requirement already satisfied: numpy>=1.23.2 in /usr/local/lib/python3.11/dist-packages (from pandas) (2.0.2)\n",
            "Requirement already satisfied: python-dateutil>=2.8.2 in /usr/local/lib/python3.11/dist-packages (from pandas) (2.8.2)\n",
            "Requirement already satisfied: pytz>=2020.1 in /usr/local/lib/python3.11/dist-packages (from pandas) (2025.2)\n",
            "Requirement already satisfied: tzdata>=2022.7 in /usr/local/lib/python3.11/dist-packages (from pandas) (2025.2)\n",
            "Requirement already satisfied: six>=1.5 in /usr/local/lib/python3.11/dist-packages (from python-dateutil>=2.8.2->pandas) (1.17.0)\n",
            "Downloading pymupdf-1.25.5-cp39-abi3-manylinux2014_x86_64.manylinux_2_17_x86_64.whl (20.0 MB)\n",
            "\u001b[2K   \u001b[90m━━━━━━━━━━━━━━━━━━━━━━━━━━━━━━━━━━━━━━━━\u001b[0m \u001b[32m20.0/20.0 MB\u001b[0m \u001b[31m79.9 MB/s\u001b[0m eta \u001b[36m0:00:00\u001b[0m\n",
            "\u001b[?25hInstalling collected packages: pymupdf\n",
            "Successfully installed pymupdf-1.25.5\n"
          ]
        }
      ]
    },
    {
      "cell_type": "code",
      "source": [
        "pdf_document = fitz.open(\"/wsh.pdf\")\n",
        "\n",
        "\n",
        "page1 = pdf_document[0]\n",
        "page2 = pdf_document[1]\n",
        "page3 = pdf_document[2]\n",
        "page4 = pdf_document[3]\n",
        "page5 = pdf_document[4]\n",
        "page6 = pdf_document[5]\n",
        "page7 = pdf_document[6]\n",
        "page8 = pdf_document[7]\n",
        "page9 = pdf_document[8]\n",
        "page10 = pdf_document[9]\n",
        "# page11 = pdf_document[10]\n",
        "# page12 = pdf_document[11]\n",
        "\n",
        "text1 = page1.get_text(\"words\", sort=True)\n",
        "text2 = page2.get_text(\"words\", sort=True)\n",
        "text3 = page3.get_text(\"words\", sort=True)\n",
        "text4 = page4.get_text(\"words\", sort=True)\n",
        "text5 = page5.get_text(\"words\", sort=True)\n",
        "text6 = page6.get_text(\"words\", sort=True)\n",
        "text7 = page7.get_text(\"words\", sort=True)\n",
        "text8 = page8.get_text(\"words\", sort=True)\n",
        "text9 = page9.get_text(\"words\", sort=True)\n",
        "text10 = page10.get_text(\"words\", sort=True)\n",
        "# text11 = page11.get_text(\"words\", sort=True)\n",
        "# text12 = page12.get_text(\"words\", sort=True)\n",
        "\n",
        "\n",
        "\n",
        "text = text1 + text2 + text3 + text4 + text5 + text6 + text7 + text8 + text9 + text10# + text11 + text12\n",
        "\n",
        "\n",
        "for i, word in enumerate(text):\n",
        "\n",
        "  txt = word[4]\n",
        "  if txt == \"Number:\":\n",
        "      contract = text[i+1][4]\n",
        "  if txt == \"CHK\":\n",
        "      total = text[i+1][4]\n",
        "      print(contract + \" \" + total)\n",
        "\n",
        "\n",
        "\n",
        "pdf_document.close()"
      ],
      "metadata": {
        "id": "02-v5HFWmypi",
        "outputId": "115191bc-7dae-4242-ec5d-91da4a8b084d",
        "colab": {
          "base_uri": "https://localhost:8080/"
        }
      },
      "execution_count": null,
      "outputs": [
        {
          "output_type": "stream",
          "name": "stdout",
          "text": [
            "AP10328243 $105.57\n",
            "GAP10126314 $152.44\n",
            "GAP10132304 $141.13\n",
            "GAP10134446 $171.83\n",
            "GAP10135066 $214.07\n",
            "CC1001635031 $175.71\n",
            "GAP10136603 $204.10\n",
            "GAP10142078 $159.30\n",
            "GAP10154089 $175.11\n",
            "GAP10189095 $192.12\n",
            "GAP10196329 $191.82\n",
            "GAP10202945 $232.39\n",
            "GAP10207961 $250.62\n",
            "GAP10215008 $270.49\n",
            "GAP10221509 $254.08\n",
            "GAP10238883 $228.81\n",
            "GAP10241130 $264.50\n",
            "GAP10243880 $287.49\n",
            "GAP10252221 $240.34\n",
            "GAP10257608 $251.40\n",
            "GAP10260669 $305.02\n",
            "GAP10260988 $316.90\n",
            "GAP10265103 $307.36\n",
            "ME009691 $377.27\n",
            "CC1001635031 $68.70\n",
            "PPM10026060 $282.87\n",
            "PPM10027516 $108.07\n",
            "PPM10027562 $71.86\n",
            "PPM10038192 $451.32\n",
            "PPM10038624 $166.19\n",
            "PPM10041445 $147.22\n",
            "PPM10043043 $170.10\n",
            "PPM10044194 $414.83\n",
            "TPPX123042 $239.31\n",
            "TPPX155387 $486.36\n",
            "TPPX159198 $255.71\n",
            "TPPX165527 $152.65\n",
            "CC1001635031 $532.02\n",
            "TPPX173101 $542.52\n",
            "TPPX173715 $549.29\n",
            "TW10895503 $260.33\n",
            "VSC1024626 $466.35\n",
            "VSC10345310 $433.31\n",
            "VSC1034818 $993.06\n",
            "VSC10356766 $529.15\n",
            "VSC10395389 $816.79\n",
            "VSC10407410 $339.55\n",
            "VSC10407648 $789.72\n",
            "VSC10435157 $753.99\n",
            "VSC10485362 $850.65\n",
            "CC1001635031 $1017.37\n",
            "VSC10494842 $483.84\n",
            "VSC10498597 $968.17\n",
            "VSC10526327 $1919.07\n",
            "VSC10528148 $869.29\n",
            "VSC10531552 $849.18\n"
          ]
        }
      ]
    },
    {
      "cell_type": "markdown",
      "source": [],
      "metadata": {
        "id": "AyxykRfMnPv8"
      }
    },
    {
      "cell_type": "code",
      "source": [],
      "metadata": {
        "id": "9IDpRUnR7eCn"
      },
      "execution_count": null,
      "outputs": []
    },
    {
      "cell_type": "markdown",
      "source": [],
      "metadata": {
        "id": "Tv3iPJ_EmNUL"
      }
    }
  ]
}